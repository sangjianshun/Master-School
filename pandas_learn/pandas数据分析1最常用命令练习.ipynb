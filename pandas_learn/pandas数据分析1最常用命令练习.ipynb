{
 "cells": [
  {
   "cell_type": "markdown",
   "id": "172f323d-e755-4626-ac9e-5ea4413557b6",
   "metadata": {},
   "source": [
    "#  给定一个数据集（表excel,tsv,csv,data）\n",
    "## 1. 宏观认识\n",
    "1.1. 表有多少行，多少列（字段）。\n",
    "\n",
    "1.2. 都有什么字段，每个字段是什么数据类型，缺失值情况怎么样。\n",
    "\n",
    "1.3. 如果是数值列，他们的统计学指标比如均值，最大值等是什么。\n",
    "\n",
    "1.4. 表的索引情况\n",
    "## 2. 微观认识\n",
    "2.1. 看几行样例数据，基于字段的名称或数据集的说明去理解每一列的物理意义。\n",
    "\n",
    "2.2. 针对具体的列，如果是枚举类型，一共枚举值有多少个。\n",
    "\n",
    "2.3. 针对具体的列，统计出现的频次，理解出现频次最多的元素。"
   ]
  },
  {
   "cell_type": "code",
   "execution_count": 62,
   "id": "07af1461-1ac3-4cdd-a357-332c98ef6aea",
   "metadata": {},
   "outputs": [],
   "source": [
    "import pandas as pd\n",
    "import numpy as np"
   ]
  },
  {
   "cell_type": "markdown",
   "id": "708c449c-e5fd-4c00-abbd-938ac6000d30",
   "metadata": {},
   "source": [
    "# 第一个数据集"
   ]
  },
  {
   "cell_type": "code",
   "execution_count": 63,
   "id": "10f64a31-fd74-42d2-b541-5ed4e6c97f90",
   "metadata": {},
   "outputs": [],
   "source": [
    "file_address = \"data/chipotle.tsv\"\n",
    "chipo = pd.read_csv(file_address, sep='\\t')"
   ]
  },
  {
   "cell_type": "markdown",
   "id": "99a69555-099e-4fb1-a6cc-a8eecbb5f307",
   "metadata": {},
   "source": [
    "### 表一共有多少行，多少列"
   ]
  },
  {
   "cell_type": "code",
   "execution_count": 64,
   "id": "78647697-872d-4efb-bdf5-8d6d33b37cb6",
   "metadata": {},
   "outputs": [
    {
     "name": "stdout",
     "output_type": "stream",
     "text": [
      "(4622, 5)\n",
      "4622\n",
      "5\n"
     ]
    }
   ],
   "source": [
    "print(chipo.shape)\n",
    "print(chipo.shape[0])\n",
    "print(chipo.shape[1])"
   ]
  },
  {
   "cell_type": "markdown",
   "id": "4092338b-7ad9-4472-886c-0ef47c69bb1e",
   "metadata": {},
   "source": [
    "### 表列名是什么(都有哪些字段)\n",
    "### 表的基础信息\n",
    "有哪些列，每一列的数据类型是什么，每一列的缺失值情况等"
   ]
  },
  {
   "cell_type": "code",
   "execution_count": 65,
   "id": "68923059-5d23-467d-b454-76fbd3952d36",
   "metadata": {},
   "outputs": [
    {
     "name": "stdout",
     "output_type": "stream",
     "text": [
      "Index(['order_id', 'quantity', 'item_name', 'choice_description',\n",
      "       'item_price'],\n",
      "      dtype='object')\n",
      "##########\n",
      "order_id               int64\n",
      "quantity               int64\n",
      "item_name             object\n",
      "choice_description    object\n",
      "item_price            object\n",
      "dtype: object\n",
      "##########\n",
      "<class 'pandas.core.frame.DataFrame'>\n",
      "RangeIndex: 4622 entries, 0 to 4621\n",
      "Data columns (total 5 columns):\n",
      " #   Column              Non-Null Count  Dtype \n",
      "---  ------              --------------  ----- \n",
      " 0   order_id            4622 non-null   int64 \n",
      " 1   quantity            4622 non-null   int64 \n",
      " 2   item_name           4622 non-null   object\n",
      " 3   choice_description  3376 non-null   object\n",
      " 4   item_price          4622 non-null   object\n",
      "dtypes: int64(2), object(3)\n",
      "memory usage: 180.7+ KB\n",
      "None\n"
     ]
    }
   ],
   "source": [
    "print(chipo.columns)\n",
    "print(\"##########\")\n",
    "print(chipo.dtypes)\n",
    "print(\"##########\")\n",
    "print(chipo.info())"
   ]
  },
  {
   "cell_type": "markdown",
   "id": "acd04217-7956-4a4f-a637-189cb8d74451",
   "metadata": {},
   "source": [
    "### 表的索引是什么"
   ]
  },
  {
   "cell_type": "code",
   "execution_count": 66,
   "id": "f217873b-89f1-4775-8159-41f8c7112e91",
   "metadata": {},
   "outputs": [
    {
     "name": "stdout",
     "output_type": "stream",
     "text": [
      "RangeIndex(start=0, stop=4622, step=1)\n"
     ]
    }
   ],
   "source": [
    "print(chipo.index)"
   ]
  },
  {
   "cell_type": "markdown",
   "id": "a3b8a27c-df2f-4e0d-84a1-10b37bcfeee2",
   "metadata": {},
   "source": [
    "### 展示头部，尾部N行"
   ]
  },
  {
   "cell_type": "code",
   "execution_count": 67,
   "id": "161b8c9d-3d62-4470-b628-9f58002c3e5c",
   "metadata": {},
   "outputs": [
    {
     "name": "stdout",
     "output_type": "stream",
     "text": [
      "   order_id  quantity                              item_name  \\\n",
      "0         1         1           Chips and Fresh Tomato Salsa   \n",
      "1         1         1                                   Izze   \n",
      "2         1         1                       Nantucket Nectar   \n",
      "3         1         1  Chips and Tomatillo-Green Chili Salsa   \n",
      "\n",
      "  choice_description item_price  \n",
      "0                NaN      $2.39  \n",
      "1       [Clementine]      $3.39  \n",
      "2            [Apple]      $3.39  \n",
      "3                NaN      $2.39  \n",
      "##########\n",
      "      order_id  quantity           item_name  \\\n",
      "4617      1833         1       Steak Burrito   \n",
      "4618      1833         1       Steak Burrito   \n",
      "4619      1834         1  Chicken Salad Bowl   \n",
      "4620      1834         1  Chicken Salad Bowl   \n",
      "4621      1834         1  Chicken Salad Bowl   \n",
      "\n",
      "                                     choice_description item_price  \n",
      "4617  [Fresh Tomato Salsa, [Rice, Black Beans, Sour ...     $11.75  \n",
      "4618  [Fresh Tomato Salsa, [Rice, Sour Cream, Cheese...     $11.75  \n",
      "4619  [Fresh Tomato Salsa, [Fajita Vegetables, Pinto...     $11.25  \n",
      "4620  [Fresh Tomato Salsa, [Fajita Vegetables, Lettu...      $8.75  \n",
      "4621  [Fresh Tomato Salsa, [Fajita Vegetables, Pinto...      $8.75  \n"
     ]
    }
   ],
   "source": [
    "print(chipo.head(4))\n",
    "print(\"##########\")\n",
    "print(chipo.tail())"
   ]
  },
  {
   "cell_type": "markdown",
   "id": "64041c79-9c10-41c5-80f9-782a9bf5a1cd",
   "metadata": {},
   "source": [
    "# 第二个数据集"
   ]
  },
  {
   "cell_type": "code",
   "execution_count": 68,
   "id": "0888582e-6a30-4137-8b81-e4ed643aad82",
   "metadata": {},
   "outputs": [],
   "source": [
    "file_address = \"data/u.user\"\n",
    "users = pd.read_csv(file_address, sep='|', index_col='user_id')"
   ]
  },
  {
   "cell_type": "markdown",
   "id": "136e2ca8-a6ed-4571-97fc-a1a514e42e00",
   "metadata": {},
   "source": [
    "## 宏观认识数据集"
   ]
  },
  {
   "cell_type": "markdown",
   "id": "c7655b35-374c-4e78-b257-7aa135adc671",
   "metadata": {},
   "source": [
    "表有多少行，多少列（字段）。\n",
    "\n",
    "都有什么字段，每个字段是什么数据类型，缺失值情况怎么样。"
   ]
  },
  {
   "cell_type": "code",
   "execution_count": 69,
   "id": "7d2c522b-4bca-40a5-9766-d52fd39b844e",
   "metadata": {},
   "outputs": [
    {
     "name": "stdout",
     "output_type": "stream",
     "text": [
      "(943, 4) 943 4\n",
      "##########\n",
      "Index(['age', 'gender', 'occupation', 'zip_code'], dtype='object')\n",
      "##########\n",
      "age            int64\n",
      "gender        object\n",
      "occupation    object\n",
      "zip_code      object\n",
      "dtype: object\n",
      "##########\n",
      "<class 'pandas.core.frame.DataFrame'>\n",
      "Int64Index: 943 entries, 1 to 943\n",
      "Data columns (total 4 columns):\n",
      " #   Column      Non-Null Count  Dtype \n",
      "---  ------      --------------  ----- \n",
      " 0   age         943 non-null    int64 \n",
      " 1   gender      943 non-null    object\n",
      " 2   occupation  943 non-null    object\n",
      " 3   zip_code    943 non-null    object\n",
      "dtypes: int64(1), object(3)\n",
      "memory usage: 36.8+ KB\n",
      "None\n"
     ]
    }
   ],
   "source": [
    "print(users.shape, users.shape[0], users.shape[1])\n",
    "print(\"##########\")\n",
    "print(users.columns)\n",
    "print(\"##########\")\n",
    "print(users.dtypes)\n",
    "print(\"##########\")\n",
    "print(users.info())"
   ]
  },
  {
   "cell_type": "markdown",
   "id": "21bad94e-1200-4647-ae3e-dfc6f79692c3",
   "metadata": {},
   "source": [
    "数值列，计算统计学指标比如均值，最大值等是什么。"
   ]
  },
  {
   "cell_type": "code",
   "execution_count": 70,
   "id": "c622c4de-4540-4ced-b13a-0e3d125f6d93",
   "metadata": {},
   "outputs": [
    {
     "name": "stdout",
     "output_type": "stream",
     "text": [
      "              age\n",
      "count  943.000000\n",
      "mean    34.051962\n",
      "std     12.192740\n",
      "min      7.000000\n",
      "25%     25.000000\n",
      "50%     31.000000\n",
      "75%     43.000000\n",
      "max     73.000000\n",
      "##########\n",
      "               age gender occupation zip_code\n",
      "count   943.000000    943        943      943\n",
      "unique         NaN      2         21      795\n",
      "top            NaN      M    student    55414\n",
      "freq           NaN    670        196        9\n",
      "mean     34.051962    NaN        NaN      NaN\n",
      "std      12.192740    NaN        NaN      NaN\n",
      "min       7.000000    NaN        NaN      NaN\n",
      "25%      25.000000    NaN        NaN      NaN\n",
      "50%      31.000000    NaN        NaN      NaN\n",
      "75%      43.000000    NaN        NaN      NaN\n",
      "max      73.000000    NaN        NaN      NaN\n",
      "##########\n",
      "count         943\n",
      "unique         21\n",
      "top       student\n",
      "freq          196\n",
      "Name: occupation, dtype: object\n"
     ]
    }
   ],
   "source": [
    "print(users.describe())\n",
    "print(\"##########\")\n",
    "print(users.describe(include = \"all\"))\n",
    "print(\"##########\")\n",
    "print(users.occupation.describe())"
   ]
  },
  {
   "cell_type": "code",
   "execution_count": 71,
   "id": "d0c4aca4-2dae-44ee-8284-7df8314f2746",
   "metadata": {},
   "outputs": [
    {
     "name": "stdout",
     "output_type": "stream",
     "text": [
      "34.05196182396607\n",
      "##########\n",
      "34.05196182396607\n"
     ]
    }
   ],
   "source": [
    "print(users.age.mean())\n",
    "print(\"##########\")\n",
    "print(users.age.describe()[\"mean\"])"
   ]
  },
  {
   "cell_type": "markdown",
   "id": "4cef8056-9edb-48da-bab8-e64533428374",
   "metadata": {},
   "source": [
    "表的索引情况"
   ]
  },
  {
   "cell_type": "code",
   "execution_count": 72,
   "id": "8e803c05-2720-4376-8e29-9d569a493712",
   "metadata": {},
   "outputs": [
    {
     "name": "stdout",
     "output_type": "stream",
     "text": [
      "Int64Index([  1,   2,   3,   4,   5,   6,   7,   8,   9,  10,\n",
      "            ...\n",
      "            934, 935, 936, 937, 938, 939, 940, 941, 942, 943],\n",
      "           dtype='int64', name='user_id', length=943)\n"
     ]
    }
   ],
   "source": [
    "print(users.index)"
   ]
  },
  {
   "cell_type": "markdown",
   "id": "2be9f555-a474-4d18-943d-46d81d133b64",
   "metadata": {},
   "source": [
    "## 微观情况"
   ]
  },
  {
   "cell_type": "markdown",
   "id": "5cbe5e07-da9f-419e-a8da-fe3b45679446",
   "metadata": {},
   "source": [
    "看几行样例数据，基于字段的名称或数据集的说明去理解每一列的物理意义。"
   ]
  },
  {
   "cell_type": "code",
   "execution_count": 73,
   "id": "bb707746-2591-42c5-baef-8c0dcc5d5f1d",
   "metadata": {},
   "outputs": [
    {
     "name": "stdout",
     "output_type": "stream",
     "text": [
      "         age gender  occupation zip_code\n",
      "user_id                                 \n",
      "1         24      M  technician    85711\n",
      "2         53      F       other    94043\n",
      "3         23      M      writer    32067\n",
      "4         24      M  technician    43537\n",
      "5         33      F       other    15213\n",
      "##########\n",
      "         age gender occupation zip_code\n",
      "user_id                                \n",
      "941       20      M    student    97229\n",
      "942       48      F  librarian    78209\n",
      "943       22      M    student    77841\n"
     ]
    }
   ],
   "source": [
    "print(users.head())\n",
    "print(\"##########\")\n",
    "print(users.tail(3))"
   ]
  },
  {
   "cell_type": "markdown",
   "id": "cb2b7d8a-aa6c-4bec-96b7-e49b5f6b65fc",
   "metadata": {},
   "source": [
    "针对具体的列，如果是枚举类型，一共枚举值有多少个。"
   ]
  },
  {
   "cell_type": "code",
   "execution_count": 74,
   "id": "11179939-6e1d-4af5-8fe5-7755718396b1",
   "metadata": {},
   "outputs": [
    {
     "name": "stdout",
     "output_type": "stream",
     "text": [
      "['technician' 'other' 'writer' 'executive' 'administrator' 'student'\n",
      " 'lawyer' 'educator' 'scientist' 'entertainment' 'programmer' 'librarian'\n",
      " 'homemaker' 'artist' 'engineer' 'marketing' 'none' 'healthcare' 'retired'\n",
      " 'salesman' 'doctor']\n",
      "##########\n",
      "21\n",
      "##########\n",
      "21\n"
     ]
    }
   ],
   "source": [
    "print(users.occupation.unique())\n",
    "print(\"##########\")\n",
    "print(users.occupation.nunique())\n",
    "print(\"##########\")\n",
    "print(users.occupation.describe()[\"unique\"])"
   ]
  },
  {
   "cell_type": "markdown",
   "id": "2b24f5d8-f104-4cc0-9a41-5f26592c0e08",
   "metadata": {},
   "source": [
    "针对具体的列，统计出现的频次，理解出现频次最多的元素。"
   ]
  },
  {
   "cell_type": "code",
   "execution_count": 75,
   "id": "a6a9499a-115e-4250-8b58-feebac53de4d",
   "metadata": {},
   "outputs": [
    {
     "name": "stdout",
     "output_type": "stream",
     "text": [
      "user_id\n",
      "1         technician\n",
      "2              other\n",
      "3             writer\n",
      "4         technician\n",
      "5              other\n",
      "           ...      \n",
      "939          student\n",
      "940    administrator\n",
      "941          student\n",
      "942        librarian\n",
      "943          student\n",
      "Name: occupation, Length: 943, dtype: object\n",
      "##########\n",
      "user_id\n",
      "1         technician\n",
      "2              other\n",
      "3             writer\n",
      "4         technician\n",
      "5              other\n",
      "           ...      \n",
      "939          student\n",
      "940    administrator\n",
      "941          student\n",
      "942        librarian\n",
      "943          student\n",
      "Name: occupation, Length: 943, dtype: object\n"
     ]
    }
   ],
   "source": [
    "print(users.occupation)\n",
    "print(\"##########\")\n",
    "print(users['occupation'])"
   ]
  },
  {
   "cell_type": "code",
   "execution_count": 76,
   "id": "a26f3032-395b-43f2-81cb-6fe0a744383a",
   "metadata": {},
   "outputs": [
    {
     "name": "stdout",
     "output_type": "stream",
     "text": [
      "student          196\n",
      "other            105\n",
      "educator          95\n",
      "administrator     79\n",
      "engineer          67\n",
      "programmer        66\n",
      "librarian         51\n",
      "writer            45\n",
      "executive         32\n",
      "scientist         31\n",
      "artist            28\n",
      "technician        27\n",
      "marketing         26\n",
      "entertainment     18\n",
      "healthcare        16\n",
      "retired           14\n",
      "lawyer            12\n",
      "salesman          12\n",
      "none               9\n",
      "homemaker          7\n",
      "doctor             7\n",
      "Name: occupation, dtype: int64\n"
     ]
    }
   ],
   "source": [
    "print(users.occupation.value_counts())"
   ]
  },
  {
   "cell_type": "code",
   "execution_count": 77,
   "id": "64482b31-2da4-484f-a358-7fc456c18bc6",
   "metadata": {},
   "outputs": [
    {
     "name": "stdout",
     "output_type": "stream",
     "text": [
      "student    196\n",
      "Name: occupation, dtype: int64\n",
      "##########\n",
      "Index(['student'], dtype='object')\n",
      "##########\n",
      "student\n",
      "##########\n",
      "student\n"
     ]
    }
   ],
   "source": [
    "print(users.occupation.value_counts().head(1))\n",
    "print(\"##########\")\n",
    "print(users.occupation.value_counts().head(1).index)\n",
    "print(\"##########\")\n",
    "print(users.occupation.value_counts().head(1).index[0])\n",
    "print(\"##########\")\n",
    "print(users.occupation.value_counts().index[0])"
   ]
  },
  {
   "cell_type": "code",
   "execution_count": null,
   "id": "1583fbca-dbda-493d-ad93-9e014cd6ffcb",
   "metadata": {},
   "outputs": [],
   "source": []
  },
  {
   "cell_type": "markdown",
   "id": "b564987f-e78e-4557-9f22-c87d3f2fda5a",
   "metadata": {},
   "source": [
    "# 第三个数据集"
   ]
  },
  {
   "cell_type": "code",
   "execution_count": 78,
   "id": "a8b243f2-12bc-4572-bab8-16bfa7f3b56e",
   "metadata": {},
   "outputs": [
    {
     "name": "stderr",
     "output_type": "stream",
     "text": [
      "C:\\Users\\Administrator\\AppData\\Local\\Temp\\ipykernel_21088\\488676136.py:2: DtypeWarning: Columns (0,3,5,19,20,24,25,26,27,28,36,37,38,39,48) have mixed types. Specify dtype option on import or set low_memory=False.\n",
      "  food = pd.read_csv(file_address, sep='\\t')\n"
     ]
    }
   ],
   "source": [
    "file_address = \"data/en.openfoodfacts.org.products.tsv\"\n",
    "food = pd.read_csv(file_address, sep='\\t')"
   ]
  },
  {
   "cell_type": "markdown",
   "id": "5f230334-59cf-4d67-ab6b-360ce46001b5",
   "metadata": {},
   "source": [
    "表有多少行，多少列（字段）"
   ]
  },
  {
   "cell_type": "code",
   "execution_count": 79,
   "id": "3a6bdd15-4039-47f5-88e3-615c826464cd",
   "metadata": {},
   "outputs": [
    {
     "data": {
      "text/plain": [
       "(356027, 163)"
      ]
     },
     "execution_count": 79,
     "metadata": {},
     "output_type": "execute_result"
    }
   ],
   "source": []
  },
  {
   "cell_type": "markdown",
   "id": "5c5dfdc3-94e8-49e8-92d4-1a64fd8a3d77",
   "metadata": {},
   "source": [
    "都有什么字段，每个字段是什么数据类型，缺失值情况怎么样。"
   ]
  },
  {
   "cell_type": "code",
   "execution_count": 80,
   "id": "231e4d42-17cb-4775-a8f0-b5cceb8c95db",
   "metadata": {},
   "outputs": [
    {
     "name": "stdout",
     "output_type": "stream",
     "text": [
      "code                        object\n",
      "url                         object\n",
      "creator                     object\n",
      "created_t                   object\n",
      "created_datetime            object\n",
      "                            ...   \n",
      "carbon-footprint_100g      float64\n",
      "nutrition-score-fr_100g    float64\n",
      "nutrition-score-uk_100g    float64\n",
      "glycemic-index_100g        float64\n",
      "water-hardness_100g        float64\n",
      "Length: 163, dtype: object\n",
      "##\n",
      "<class 'pandas.core.frame.DataFrame'>\n",
      "RangeIndex: 356027 entries, 0 to 356026\n",
      "Columns: 163 entries, code to water-hardness_100g\n",
      "dtypes: float64(107), object(56)\n",
      "memory usage: 442.8+ MB\n",
      "None\n"
     ]
    }
   ],
   "source": []
  },
  {
   "cell_type": "markdown",
   "id": "a5057f3c-be6e-4701-8df3-2642da3f0317",
   "metadata": {},
   "source": [
    "如果是数值列，他们的统计学指标比如均值，最大值等是什么"
   ]
  },
  {
   "cell_type": "code",
   "execution_count": 81,
   "id": "6f818bd0-45ba-452c-ac3c-f107012f81da",
   "metadata": {},
   "outputs": [
    {
     "name": "stdout",
     "output_type": "stream",
     "text": [
      "       no_nutriments    additives_n  ingredients_from_palm_oil_n  \\\n",
      "count            0.0  283867.000000                283867.000000   \n",
      "mean             NaN       1.876851                     0.023430   \n",
      "std              NaN       2.501022                     0.153094   \n",
      "min              NaN       0.000000                     0.000000   \n",
      "25%              NaN       0.000000                     0.000000   \n",
      "50%              NaN       1.000000                     0.000000   \n",
      "75%              NaN       3.000000                     0.000000   \n",
      "max              NaN      30.000000                     2.000000   \n",
      "\n",
      "       ingredients_from_palm_oil  ingredients_that_may_be_from_palm_oil_n  \\\n",
      "count                        0.0                            283867.000000   \n",
      "mean                         NaN                                 0.059736   \n",
      "std                          NaN                                 0.280660   \n",
      "min                          NaN                                 0.000000   \n",
      "25%                          NaN                                 0.000000   \n",
      "50%                          NaN                                 0.000000   \n",
      "75%                          NaN                                 0.000000   \n",
      "max                          NaN                                 6.000000   \n",
      "\n",
      "       ingredients_that_may_be_from_palm_oil  nutrition_grade_uk  \\\n",
      "count                                    0.0                 0.0   \n",
      "mean                                     NaN                 NaN   \n",
      "std                                      NaN                 NaN   \n",
      "min                                      NaN                 NaN   \n",
      "25%                                      NaN                 NaN   \n",
      "50%                                      NaN                 NaN   \n",
      "75%                                      NaN                 NaN   \n",
      "max                                      NaN                 NaN   \n",
      "\n",
      "         energy_100g  energy-from-fat_100g      fat_100g  ...  \\\n",
      "count  295367.000000            869.000000  2.794970e+05  ...   \n",
      "mean     1125.453320            587.216617  5.606587e+04  ...   \n",
      "std       936.825952            713.255708  2.963385e+07  ...   \n",
      "min         0.000000              0.000000  0.000000e+00  ...   \n",
      "25%       382.000000             49.400000  1.000000e-01  ...   \n",
      "50%      1092.000000            300.000000  5.290000e+00  ...   \n",
      "75%      1674.000000            900.000000  2.000000e+01  ...   \n",
      "max    231199.000000           3830.000000  1.566667e+10  ...   \n",
      "\n",
      "       fruits-vegetables-nuts_100g  fruits-vegetables-nuts-estimate_100g  \\\n",
      "count                  3228.000000                            404.000000   \n",
      "mean                     33.392680                             60.360124   \n",
      "std                      32.906834                             29.262350   \n",
      "min                       0.000000                              0.000000   \n",
      "25%                       0.000000                             45.000000   \n",
      "50%                      25.000000                             58.000000   \n",
      "75%                      55.000000                             93.000000   \n",
      "max                     100.000000                            100.000000   \n",
      "\n",
      "       collagen-meat-protein-ratio_100g   cocoa_100g  chlorophyl_100g  \\\n",
      "count                        182.000000  1383.000000              0.0   \n",
      "mean                          15.362637    52.102675              NaN   \n",
      "std                            3.692658    19.028361              NaN   \n",
      "min                            8.000000     6.000000              NaN   \n",
      "25%                           12.000000    33.000000              NaN   \n",
      "50%                           15.000000    52.000000              NaN   \n",
      "75%                           15.000000    70.000000              NaN   \n",
      "max                           25.000000   100.000000              NaN   \n",
      "\n",
      "       carbon-footprint_100g  nutrition-score-fr_100g  \\\n",
      "count             278.000000            254856.000000   \n",
      "mean              335.790664                 9.166137   \n",
      "std               423.244817                 8.999870   \n",
      "min                 0.000000               -15.000000   \n",
      "25%                82.650000                 1.000000   \n",
      "50%               190.950000                10.000000   \n",
      "75%               378.700000                16.000000   \n",
      "max              2842.000000                40.000000   \n",
      "\n",
      "       nutrition-score-uk_100g  glycemic-index_100g  water-hardness_100g  \n",
      "count            254856.000000                  0.0                  0.0  \n",
      "mean                  8.980656                  NaN                  NaN  \n",
      "std                   9.151757                  NaN                  NaN  \n",
      "min                 -15.000000                  NaN                  NaN  \n",
      "25%                   1.000000                  NaN                  NaN  \n",
      "50%                   9.000000                  NaN                  NaN  \n",
      "75%                  16.000000                  NaN                  NaN  \n",
      "max                  40.000000                  NaN                  NaN  \n",
      "\n",
      "[8 rows x 107 columns]\n"
     ]
    }
   ],
   "source": []
  },
  {
   "cell_type": "markdown",
   "id": "7406d968-e7fc-4bfb-a1ce-a705ab948ab7",
   "metadata": {},
   "source": [
    "表的索引情况"
   ]
  },
  {
   "cell_type": "code",
   "execution_count": 82,
   "id": "949e55a6-2812-4985-9769-27227518b68f",
   "metadata": {},
   "outputs": [
    {
     "name": "stdout",
     "output_type": "stream",
     "text": [
      "RangeIndex(start=0, stop=356027, step=1)\n"
     ]
    }
   ],
   "source": []
  },
  {
   "cell_type": "markdown",
   "id": "a1ec886f-7c27-44d9-ae62-07fc7e42cf65",
   "metadata": {},
   "source": [
    "看几行样例数据，基于字段的名称或数据集的说明去理解每一列的物理意义。"
   ]
  },
  {
   "cell_type": "code",
   "execution_count": 83,
   "id": "f8759597-b89f-4a22-9181-165406c99d78",
   "metadata": {},
   "outputs": [
    {
     "name": "stdout",
     "output_type": "stream",
     "text": [
      "    code                                                url  \\\n",
      "0   3087  http://world-en.openfoodfacts.org/product/0000...   \n",
      "1   4530  http://world-en.openfoodfacts.org/product/0000...   \n",
      "2   4559  http://world-en.openfoodfacts.org/product/0000...   \n",
      "3  16087  http://world-en.openfoodfacts.org/product/0000...   \n",
      "4  16094  http://world-en.openfoodfacts.org/product/0000...   \n",
      "\n",
      "                      creator   created_t      created_datetime  \\\n",
      "0  openfoodfacts-contributors  1474103866  2016-09-17T09:17:46Z   \n",
      "1             usda-ndb-import  1489069957  2017-03-09T14:32:37Z   \n",
      "2             usda-ndb-import  1489069957  2017-03-09T14:32:37Z   \n",
      "3             usda-ndb-import  1489055731  2017-03-09T10:35:31Z   \n",
      "4             usda-ndb-import  1489055653  2017-03-09T10:34:13Z   \n",
      "\n",
      "  last_modified_t last_modified_datetime                    product_name  \\\n",
      "0      1474103893   2016-09-17T09:18:13Z              Farine de blé noir   \n",
      "1      1489069957   2017-03-09T14:32:37Z  Banana Chips Sweetened (Whole)   \n",
      "2      1489069957   2017-03-09T14:32:37Z                         Peanuts   \n",
      "3      1489055731   2017-03-09T10:35:31Z          Organic Salted Nut Mix   \n",
      "4      1489055653   2017-03-09T10:34:13Z                 Organic Polenta   \n",
      "\n",
      "  generic_name quantity  ... fruits-vegetables-nuts_100g  \\\n",
      "0          NaN      1kg  ...                         NaN   \n",
      "1          NaN      NaN  ...                         NaN   \n",
      "2          NaN      NaN  ...                         NaN   \n",
      "3          NaN      NaN  ...                         NaN   \n",
      "4          NaN      NaN  ...                         NaN   \n",
      "\n",
      "  fruits-vegetables-nuts-estimate_100g collagen-meat-protein-ratio_100g  \\\n",
      "0                                  NaN                              NaN   \n",
      "1                                  NaN                              NaN   \n",
      "2                                  NaN                              NaN   \n",
      "3                                  NaN                              NaN   \n",
      "4                                  NaN                              NaN   \n",
      "\n",
      "  cocoa_100g chlorophyl_100g carbon-footprint_100g nutrition-score-fr_100g  \\\n",
      "0        NaN             NaN                   NaN                     NaN   \n",
      "1        NaN             NaN                   NaN                    14.0   \n",
      "2        NaN             NaN                   NaN                     0.0   \n",
      "3        NaN             NaN                   NaN                    12.0   \n",
      "4        NaN             NaN                   NaN                     NaN   \n",
      "\n",
      "  nutrition-score-uk_100g glycemic-index_100g water-hardness_100g  \n",
      "0                     NaN                 NaN                 NaN  \n",
      "1                    14.0                 NaN                 NaN  \n",
      "2                     0.0                 NaN                 NaN  \n",
      "3                    12.0                 NaN                 NaN  \n",
      "4                     NaN                 NaN                 NaN  \n",
      "\n",
      "[5 rows x 163 columns]\n"
     ]
    }
   ],
   "source": []
  },
  {
   "cell_type": "markdown",
   "id": "2dfe3745-d6d7-49e8-9e18-29b7f68bd211",
   "metadata": {},
   "source": [
    "针对具体的列\"creator\"，一共枚举值有多少个。"
   ]
  },
  {
   "cell_type": "code",
   "execution_count": 84,
   "id": "db3b6ac8-67b0-42ba-8bd6-344d113b76fd",
   "metadata": {},
   "outputs": [
    {
     "name": "stdout",
     "output_type": "stream",
     "text": [
      "3890\n",
      "#############\n",
      "3890\n"
     ]
    }
   ],
   "source": []
  },
  {
   "cell_type": "markdown",
   "id": "946bf551-701c-450b-ae1e-3dfb0c01f8ef",
   "metadata": {},
   "source": [
    "统计\"creator\"出现的频次，理解出现频次最多的元素\n",
    "\n",
    "找出频次最多的元素"
   ]
  },
  {
   "cell_type": "code",
   "execution_count": 85,
   "id": "00729042-8086-45fe-8abd-b55b3ff4c6c4",
   "metadata": {},
   "outputs": [
    {
     "name": "stdout",
     "output_type": "stream",
     "text": [
      "usda-ndb-import               169868\n",
      "openfoodfacts-contributors     45805\n",
      "kiliweb                        36379\n",
      "date-limite-app                12679\n",
      "openfood-ch-import             11469\n",
      "                               ...  \n",
      "leleio                             1\n",
      "bora                               1\n",
      "sevede28                           1\n",
      "brunoa                             1\n",
      "climboxing                         1\n",
      "Name: creator, Length: 3890, dtype: int64\n",
      "#############\n",
      "usda-ndb-import\n"
     ]
    }
   ],
   "source": []
  },
  {
   "cell_type": "code",
   "execution_count": null,
   "id": "17364a4b-69af-47b1-b823-4ecf7201d3d3",
   "metadata": {},
   "outputs": [],
   "source": []
  }
 ],
 "metadata": {
  "kernelspec": {
   "display_name": "Python 3 (ipykernel)",
   "language": "python",
   "name": "python3"
  },
  "language_info": {
   "codemirror_mode": {
    "name": "ipython",
    "version": 3
   },
   "file_extension": ".py",
   "mimetype": "text/x-python",
   "name": "python",
   "nbconvert_exporter": "python",
   "pygments_lexer": "ipython3",
   "version": "3.8.10"
  }
 },
 "nbformat": 4,
 "nbformat_minor": 5
}